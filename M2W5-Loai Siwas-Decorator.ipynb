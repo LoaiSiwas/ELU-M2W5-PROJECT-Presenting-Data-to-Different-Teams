{
 "cells": [
  {
   "cell_type": "markdown",
   "id": "0679a676",
   "metadata": {},
   "source": [
    "# M2 - W5 | PROJECT: Presenting Data to Different Teams\n",
    "\n",
    "Student: Loai Siwas"
   ]
  },
  {
   "cell_type": "markdown",
   "id": "068be2d3",
   "metadata": {},
   "source": [
    "---\n",
    "\n",
    "# Exercise 1\n",
    "Create your own decoratorFor this exercise, you will create your own decorator  to measure the execution time of a function. You need to do that from scratch and not use any other built-in decorators (but you are allowed to use the time() module)."
   ]
  },
  {
   "cell_type": "code",
   "execution_count": 1,
   "id": "63d3bb7a",
   "metadata": {},
   "outputs": [],
   "source": [
    "# Importing the necessary packages\n",
    "import time\n",
    "from typing import Callable, Any\n",
    "\n",
    "# Implementing the decorator\n",
    "def measure_time(func: Callable) -> Callable:\n",
    "    \"\"\"\n",
    "    Decorator function to measure the execution time of a function.\n",
    "    :param func: The function to measure the execution time of.\n",
    "    :return: The decorated function.\n",
    "    \"\"\"\n",
    "    \n",
    "    def wrapper(*args: Any, **kwargs: Any) -> Any:\n",
    "        start_time = time.time()\n",
    "        result = func(*args, **kwargs)\n",
    "        end_time = time.time()\n",
    "        print(f'Executed {func.__name__} in {end_time - start_time} seconds.')\n",
    "        return result\n",
    "    \n",
    "    return wrapper\n"
   ]
  },
  {
   "cell_type": "code",
   "execution_count": 2,
   "id": "de198049",
   "metadata": {},
   "outputs": [],
   "source": [
    "# Example function to demonstrate the use of the measure_time decorator\n",
    "@measure_time\n",
    "def my_function():\n",
    "    \"\"\"\n",
    "    Example function to demonstrate the use of the measure_time decorator.\n",
    "    \"\"\"\n",
    "    x = 0\n",
    "    for i in range(20000000):\n",
    "        x += i\n",
    "    print(x)"
   ]
  },
  {
   "cell_type": "code",
   "execution_count": 3,
   "id": "2a04ef5c",
   "metadata": {},
   "outputs": [
    {
     "name": "stdout",
     "output_type": "stream",
     "text": [
      "199999990000000\n",
      "Executed my_function in 1.3274059295654297 seconds.\n"
     ]
    }
   ],
   "source": [
    "# calling the test function\n",
    "my_function()"
   ]
  },
  {
   "cell_type": "markdown",
   "id": "b4050a08",
   "metadata": {},
   "source": [
    "---\n",
    "\n",
    "# End of Assignment\n",
    "\n",
    "Student Name: Loai Siwas"
   ]
  }
 ],
 "metadata": {
  "kernelspec": {
   "display_name": "Python 3 (ipykernel)",
   "language": "python",
   "name": "python3"
  },
  "language_info": {
   "codemirror_mode": {
    "name": "ipython",
    "version": 3
   },
   "file_extension": ".py",
   "mimetype": "text/x-python",
   "name": "python",
   "nbconvert_exporter": "python",
   "pygments_lexer": "ipython3",
   "version": "3.8.16"
  }
 },
 "nbformat": 4,
 "nbformat_minor": 5
}
